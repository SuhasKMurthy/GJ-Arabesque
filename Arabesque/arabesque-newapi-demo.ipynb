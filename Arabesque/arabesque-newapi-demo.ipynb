{
 "cells": [
  {
   "cell_type": "markdown",
   "metadata": {},
   "source": [
    "## Arabesque API\n",
    "\n",
    "[http://arabesque.io](http://arabesque.io)\n",
    "\n",
    "*Current Version:* 1.0.2-BETA\n",
    "\n",
    "Arabesque is a distributed graph mining system that enables quick and easy\n",
    "development of graph mining algorithms, while providing a scalable and efficient\n",
    "execution engine running on top of Hadoop.\n",
    "\n",
    "Benefits of Arabesque:\n",
    "* Simple and intuitive API, specially tailored for Graph Mining algorithms.\n",
    "* Transparently handling of all complexities associated with these algorithms.\n",
    "* Scalable to hundreds of workers.\n",
    "* Efficient implementation: negligible overhead compared to equivalent centralized solutions.\n",
    "\n",
    "Arabesque is open-source with the Apache 2.0 license."
   ]
  },
  {
   "cell_type": "code",
   "execution_count": 1,
   "metadata": {
    "collapsed": false
   },
   "outputs": [
    {
     "name": "stdout",
     "output_type": "stream",
     "text": [
      "spark application ID: local-1488369221787\n",
      "arabesque context = io.arabesque.ArabesqueContext@5ea726e2\n",
      "localPath = /home/local/QCRI/abghanem/arabesque/arabesque-git/data/citeseer-single-label.graph\n",
      "arabesque graph = io.arabesque.ArabesqueGraph@54373a8f\n",
      "arabesque result = ArabesqueResult(org.apache.spark.SparkContext@7ec90155,SparkConfiguration(Map(arabesque.computation.class -> io.arabesque.gmlib.motif.MotifComputation, arabesque.output.path -> /tmp/arabesque-f75fc16a-1495-49d4-8e65-23965496eead/graph-e9f268ac-a05e-495a-8701-11f535915f78/motifs-08f2bcd1-6abe-4bf9-bd46-d63b5f752f6f, comm_ss -> embedding, arabesque.motif.maxsize -> 3, arabesque.graph.location -> /home/local/QCRI/abghanem/arabesque/arabesque-git/data/citeseer-single-label.graph, arabesque.graph.local -> false, agg_ic -> true)))\n",
      "null\n"
     ]
    },
    {
     "data": {
      "text/plain": [
       "Name: java.lang.RuntimeException\n",
       "Message: Could not load main graph\n",
       "StackTrace: io.arabesque.conf.Configuration.createGraph(Configuration.java:358)\n",
       "io.arabesque.conf.SparkConfiguration.initializeInJvm(SparkConfiguration.scala:155)\n",
       "io.arabesque.conf.SparkConfiguration.initialize(SparkConfiguration.scala:113)\n",
       "io.arabesque.computation.ODAGMasterEngine$class.$init$(ODAGMasterEngine.scala:48)\n",
       "io.arabesque.computation.ODAGMasterEngineSP.<init>(ODAGMasterEngineSP.scala:34)\n",
       "io.arabesque.computation.ODAGMasterEngineSP.<init>(ODAGMasterEngineSP.scala:41)\n",
       "io.arabesque.computation.SparkMasterEngine$.apply(SparkMasterEngine.scala:98)\n",
       "io.arabesque.ArabesqueResult.masterEngine(ArabesqueResult.scala:41)\n",
       "io.arabesque.ArabesqueResult.embeddings(ArabesqueResult.scala:56)\n",
       "$line21.$read$$iwC$$iwC$$iwC$$iwC.<init>(<console>:31)\n",
       "$line21.$read$$iwC$$iwC$$iwC.<init>(<console>:36)\n",
       "$line21.$read$$iwC$$iwC.<init>(<console>:38)\n",
       "$line21.$read$$iwC.<init>(<console>:40)\n",
       "$line21.$read.<init>(<console>:42)\n",
       "$line21.$read$.<init>(<console>:46)\n",
       "$line21.$read$.<clinit>(<console>)\n",
       "$line21.$eval$.<init>(<console>:7)\n",
       "$line21.$eval$.<clinit>(<console>)\n",
       "$line21.$eval.$print(<console>)\n",
       "sun.reflect.NativeMethodAccessorImpl.invoke0(Native Method)\n",
       "sun.reflect.NativeMethodAccessorImpl.invoke(NativeMethodAccessorImpl.java:62)\n",
       "sun.reflect.DelegatingMethodAccessorImpl.invoke(DelegatingMethodAccessorImpl.java:43)\n",
       "java.lang.reflect.Method.invoke(Method.java:498)\n",
       "org.apache.spark.repl.SparkIMain$ReadEvalPrint.call(SparkIMain.scala:1065)\n",
       "org.apache.spark.repl.SparkIMain$Request.loadAndRun(SparkIMain.scala:1346)\n",
       "org.apache.spark.repl.SparkIMain.loadAndRunReq$1(SparkIMain.scala:840)\n",
       "org.apache.spark.repl.SparkIMain.interpret(SparkIMain.scala:871)\n",
       "org.apache.spark.repl.SparkIMain.interpret(SparkIMain.scala:819)\n",
       "org.apache.toree.kernel.interpreter.scala.ScalaInterpreter$$anonfun$interpretAddTask$1$$anonfun$apply$3.apply(ScalaInterpreter.scala:361)\n",
       "org.apache.toree.kernel.interpreter.scala.ScalaInterpreter$$anonfun$interpretAddTask$1$$anonfun$apply$3.apply(ScalaInterpreter.scala:356)\n",
       "org.apache.toree.global.StreamState$.withStreams(StreamState.scala:81)\n",
       "org.apache.toree.kernel.interpreter.scala.ScalaInterpreter$$anonfun$interpretAddTask$1.apply(ScalaInterpreter.scala:355)\n",
       "org.apache.toree.kernel.interpreter.scala.ScalaInterpreter$$anonfun$interpretAddTask$1.apply(ScalaInterpreter.scala:355)\n",
       "org.apache.toree.utils.TaskManager$$anonfun$add$2$$anon$1.run(TaskManager.scala:140)\n",
       "java.util.concurrent.ThreadPoolExecutor.runWorker(ThreadPoolExecutor.java:1142)\n",
       "java.util.concurrent.ThreadPoolExecutor$Worker.run(ThreadPoolExecutor.java:617)\n",
       "java.lang.Thread.run(Thread.java:745)"
      ]
     },
     "execution_count": 1,
     "metadata": {},
     "output_type": "execute_result"
    }
   ],
   "source": [
    "import io.arabesque.ArabesqueContext\n",
    "\n",
    "println (s\"spark application ID: ${sc.applicationId}\")\n",
    "\n",
    "// arabesque context is built on top of SparkContext\n",
    "val arab = new ArabesqueContext (sc)\n",
    "println (s\"arabesque context = ${arab}\")\n",
    "\n",
    "// get local path for the sample graph\n",
    "val localPath = s\"${System.getenv (\"ARABESQUE_HOME\")}/data/citeseer-single-label.graph\"\n",
    "println (s\"localPath = ${localPath}\")\n",
    "\n",
    "// several arabesque graphs are built on top of ArabesqueContext\n",
    "val arabGraph = arab.textFile (localPath)\n",
    "println (s\"arabesque graph = ${arabGraph}\")\n",
    "\n",
    "// generating motifs of size 3\n",
    "val motifs = arabGraph.motifs (3).set (\"agg_ic\", true).set (\"comm_ss\", \"embedding\")\n",
    "println (s\"arabesque result = ${motifs}\")\n",
    "\n",
    "println (motifs.config.getOutputPath)\n",
    "\n",
    "// embeddings RDD\n",
    "val embeddings = motifs.embeddings\n",
    "println (motifs.config.getOutputPath)\n",
    "println (s\"two sample embeddings:\\n${embeddings.take(2).mkString(\"\\n\")}\")\n",
    "\n",
    "// getting aggregations, one by one ()\n",
    "val aggKeys = motifs.registeredAggregations\n",
    "println (s\"aggKeys = ${aggKeys.mkString(\" \")}\")\n",
    "val motifsAgg = motifs.aggregation (aggKeys(0))\n",
    "println (motifsAgg)\n",
    "\n",
    "// getting all aggregations\n",
    "val allAggs = motifs.aggregations\n",
    "println (allAggs)\n",
    "\n",
    "arab.stop"
   ]
  },
  {
   "cell_type": "code",
   "execution_count": null,
   "metadata": {
    "collapsed": true
   },
   "outputs": [],
   "source": []
  }
 ],
 "metadata": {
  "anaconda-cloud": {},
  "celltoolbar": "Slideshow",
  "kernelspec": {
   "display_name": "arabesque_1.0.2 - Scala",
   "language": "scala",
   "name": "arabesque_1.0.2_scala"
  },
  "language_info": {
   "name": "scala",
   "version": "2.10.4"
  }
 },
 "nbformat": 4,
 "nbformat_minor": 0
}
