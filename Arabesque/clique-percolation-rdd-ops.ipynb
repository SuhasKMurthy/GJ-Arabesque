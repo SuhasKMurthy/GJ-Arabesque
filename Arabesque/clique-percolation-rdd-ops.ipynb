{
 "cells": [
  {
   "cell_type": "code",
   "execution_count": 1,
   "metadata": {
    "collapsed": false
   },
   "outputs": [
    {
     "name": "stdout",
     "output_type": "stream",
     "text": [
      "number of communities = 234\n"
     ]
    },
    {
     "data": {
      "text/plain": [
       "VEmbedding(3008, 2263, 3153, 3108, 3217, 3276, 3103, 2216, 3308, 3204, 3221, 3029, 2269, 3148, 2857, 3084, 2635, 3268, 2996, 2650, 3290, 3093, 3189, 3157, 3243, 3011, 3303, 3022, 3239, 2606, 3250, 3207, 3282, 3307, 3271, 2628, 3144, 2228, 2990, 2685, 2858, 3311, 3210, 3094, 2649, 3294, 2851, 3222, 3115, 3162, 3201, 3225, 3183, 3257, 3262, 3274, 3234, 3255, 3240, 2981, 2991, 3304, 2987, 2637, 3270, 2871, 2632, 2625, 3192, 3298, 2874, 2278, 2842, 3159, 3193, 2665, 3161, 3146, 2684, 3278, 3260, 3305, 3114, 1538, 1579, 3095, 3107, 3156, 2865, 3284, 2885, 3188, 3220, 3252, 1558, 3267, 2683, 3232, 3291, 2604, 3164, 3309, 3015, 2186, 3277, 2619, 3259, 3020, 2864, 3299, 3096, 3296)\n",
       "VEmbedding(2953, 2837, 3263, 3275, 3216, 3258, 2965, 3303, 3297, 3102, 3272, 3077, 3304, 2802, 320..."
      ]
     },
     "execution_count": 1,
     "metadata": {},
     "output_type": "execute_result"
    }
   ],
   "source": [
    "/*\n",
    " * Community Extraction: Clique Percolation Method\n",
    " */\n",
    "\n",
    "import io.arabesque._\n",
    "import io.arabesque.embedding.{ResultEmbedding, VEmbedding}\n",
    "import io.arabesque.utils.collection.UnionFindOps // Union-Find structure for merging adjacency sets\n",
    "import scala.collection.mutable.Map\n",
    "\n",
    "// clique target size and graph input file\n",
    "val maxsize = 3\n",
    "val inputPath = s\"${System.getenv (\"ARABESQUE_HOME\")}/data/citeseer-single-label.graph\"\n",
    "\n",
    "// arabesque context and arabesque graph\n",
    "@transient val arab = new ArabesqueContext (sc)\n",
    "@transient val arabGraph = arab.textFile (inputPath)\n",
    "\n",
    "// 1. First we use Arabesque to extract all the maxsize-cliques from the graph.\n",
    "// The result is an RDD of ResultEmbedding (vertex-induced embeddings) representing the cliques\n",
    "@transient val cliquesRes = arabGraph.cliques (maxsize) \n",
    "@transient val cliques = cliquesRes.embeddings\n",
    "\n",
    "// 2. Next we extract the clique adjacencies w.r.t. the clique percolation method.\n",
    "// The result is a mapping containing each sub-clique of size maxsize-1 and its corresponding parent.\n",
    "// In our context, parents represent sets of sub-cliques that are adjacent (union-find structure)\n",
    "val cliqueAdjacencies = cliques.map { e =>\n",
    "                                     \n",
    "    // generate all combinations of maxsize-1\n",
    "    val m = Map.empty[ResultEmbedding,ResultEmbedding]\n",
    "    val combs = e.combinations(maxsize - 1)\n",
    "                                     \n",
    "    // get first combination (first sub-clique)\n",
    "    val repr = UnionFindOps.find [ResultEmbedding] (\n",
    "        e => m.get(e).getOrElse(null),\n",
    "        (k,v) => m.update(k,v),\n",
    "        combs.next\n",
    "    )\n",
    "                                     \n",
    "    // garantee that every other sub-clique is adjacent to the first\n",
    "    while (combs.hasNext) {\n",
    "        UnionFindOps.union [ResultEmbedding] (\n",
    "            e => m.get(e).getOrElse(null),\n",
    "            (k,v) => m.update(k,v),\n",
    "            combs.next,\n",
    "            repr\n",
    "        )\n",
    "    }\n",
    "    m\n",
    "}.reduce { (m1,m2) =>\n",
    "          \n",
    "    // merge union-find structures by making sure that every pair of (sub-clique,parent) is also adjacent\n",
    "    // in the other mapping\n",
    "    for ((k,_) <- m2) {\n",
    "      val parent = UnionFindOps.find [ResultEmbedding] (\n",
    "          e => m2.get(e).getOrElse(null),\n",
    "          (k,v) => m2.update(k,v),\n",
    "          k\n",
    "      )\n",
    "      if (!(parent equals k)) {\n",
    "        UnionFindOps.union [ResultEmbedding] (\n",
    "            e => m1.get(e).getOrElse(null),\n",
    "            (k,v) => m1.update(k,v),\n",
    "            parent,\n",
    "            k\n",
    "        )\n",
    "      }\n",
    "    }\n",
    "    m1\n",
    "}\n",
    "\n",
    "// 3. We broadcast the global adjacency for community extraction\n",
    "val cliqueAdjacenciesBc = sc.broadcast (cliqueAdjacencies)\n",
    "\n",
    "// 4. For each maxsize-clique, we find the adjacency set it belongs to and emit a pair (adj-set,clique).\n",
    "// Finally we merge embeddings (cliques) that belong to the same adjacency set\n",
    "// The result is an RDD of embeddings representing communities\n",
    "val communities = cliques.map { e =>\n",
    "    \n",
    "    val m = cliqueAdjacenciesBc.value\n",
    "    val key = UnionFindOps.find [ResultEmbedding] (\n",
    "        e => m.get(e).getOrElse(null),\n",
    "        (k,v) => m.update(k,v),\n",
    "        e.combinations(maxsize - 1).next)\n",
    "    (key, e)\n",
    "}.reduceByKey (\n",
    "    (e1,e2) => new VEmbedding((e1.words.toSet ++ e2.words.toSet).toArray)\n",
    ").values\n",
    "\n",
    "// 5. Sort by decreasing order of size and display\n",
    "println (s\"number of communities = ${communities.count}\")\n",
    "communities.collect.sortBy (_.words.size * -1).mkString(\"\\n\")"
   ]
  }
 ],
 "metadata": {
  "kernelspec": {
   "display_name": "arabesque_1.0.0-SPARK - Scala",
   "language": "scala",
   "name": "arabesque_1.0.0-spark_scala"
  },
  "language_info": {
   "file_extension": ".scala",
   "name": "scala",
   "version": "2.11.8"
  }
 },
 "nbformat": 4,
 "nbformat_minor": 0
}
